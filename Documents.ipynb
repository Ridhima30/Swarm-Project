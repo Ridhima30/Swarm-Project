{
 "cells": [
  {
   "cell_type": "code",
   "execution_count": 1,
   "metadata": {},
   "outputs": [],
   "source": [
    "text = \"On a bleak Scottish moorland, Macbeth and Banquo, two of King Duncan's generals, discover three strange women (witches). The witches prophesy that Macbeth will be promoted twice: to Thane of Cawdor (a rank of the aristocracy bestowed by grateful kings) and King of Scotland. Banquo's descendants will be kings, but Banquo isn't promised any kingdom himself. The generals want to hear more, but the weird sisters disappear.Soon afterwards, King Duncan names Macbeth Thane of Cawdor as a reward for his success in the recent battles. The promotion seems to support the prophecy. The King then proposes to make a brief visit that night to Macbeth's castle at Inverness. Lady Macbeth receives news from her husband about the prophecy and his new title. She vows to help him become king by whatever means are necessary (*ominous music*).\" "
   ]
  },
  {
   "cell_type": "code",
   "execution_count": 2,
   "metadata": {},
   "outputs": [
    {
     "data": {
      "text/plain": [
       "\"On a bleak Scottish moorland, Macbeth and Banquo, two of King Duncan's generals, discover three strange women (witches). The witches prophesy that Macbeth will be promoted twice: to Thane of Cawdor (a rank of the aristocracy bestowed by grateful kings) and King of Scotland. Banquo's descendants will be kings, but Banquo isn't promised any kingdom himself. The generals want to hear more, but the weird sisters disappear.Soon afterwards, King Duncan names Macbeth Thane of Cawdor as a reward for his success in the recent battles. The promotion seems to support the prophecy. The King then proposes to make a brief visit that night to Macbeth's castle at Inverness. Lady Macbeth receives news from her husband about the prophecy and his new title. She vows to help him become king by whatever means are necessary (*ominous music*).\""
      ]
     },
     "execution_count": 2,
     "metadata": {},
     "output_type": "execute_result"
    }
   ],
   "source": [
    "text"
   ]
  },
  {
   "cell_type": "code",
   "execution_count": 3,
   "metadata": {},
   "outputs": [
    {
     "data": {
      "text/plain": [
       "[\"On a bleak Scottish moorland, Macbeth and Banquo, two of King Duncan's generals, discover three strange women (witches)\",\n",
       " ' The witches prophesy that Macbeth will be promoted twice: to Thane of Cawdor (a rank of the aristocracy bestowed by grateful kings) and King of Scotland',\n",
       " \" Banquo's descendants will be kings, but Banquo isn't promised any kingdom himself\",\n",
       " ' The generals want to hear more, but the weird sisters disappear',\n",
       " 'Soon afterwards, King Duncan names Macbeth Thane of Cawdor as a reward for his success in the recent battles',\n",
       " ' The promotion seems to support the prophecy',\n",
       " \" The King then proposes to make a brief visit that night to Macbeth's castle at Inverness\",\n",
       " ' Lady Macbeth receives news from her husband about the prophecy and his new title',\n",
       " ' She vows to help him become king by whatever means are necessary (*ominous music*)',\n",
       " '']"
      ]
     },
     "execution_count": 3,
     "metadata": {},
     "output_type": "execute_result"
    }
   ],
   "source": [
    "text.split('.')"
   ]
  },
  {
   "cell_type": "code",
   "execution_count": 4,
   "metadata": {},
   "outputs": [
    {
     "data": {
      "text/plain": [
       "\"On a bleak Scottish moorland, Macbeth and Banquo, two of King Duncan's generals, discover three strange women (witches). The witches prophesy that Macbeth will be promoted twice: to Thane of Cawdor (a rank of the aristocracy bestowed by grateful kings) and King of Scotland. Banquo's descendants will be kings, but Banquo isn't promised any kingdom himself. The generals want to hear more, but the weird sisters disappear.Soon afterwards, King Duncan names Macbeth Thane of Cawdor as a reward for his success in the recent battles. The promotion seems to support the prophecy. The King then proposes to make a brief visit that night to Macbeth's castle at Inverness. Lady Macbeth receives news from her husband about the prophecy and his new title. She vows to help him become king by whatever means are necessary (*ominous music*).\""
      ]
     },
     "execution_count": 4,
     "metadata": {},
     "output_type": "execute_result"
    }
   ],
   "source": [
    "text"
   ]
  },
  {
   "cell_type": "code",
   "execution_count": 9,
   "metadata": {},
   "outputs": [],
   "source": [
    "a=(\"doc 1\",text.split('.'))"
   ]
  },
  {
   "cell_type": "code",
   "execution_count": 10,
   "metadata": {},
   "outputs": [
    {
     "data": {
      "text/plain": [
       "('doc 1',\n",
       " [\"On a bleak Scottish moorland, Macbeth and Banquo, two of King Duncan's generals, discover three strange women (witches)\",\n",
       "  ' The witches prophesy that Macbeth will be promoted twice: to Thane of Cawdor (a rank of the aristocracy bestowed by grateful kings) and King of Scotland',\n",
       "  \" Banquo's descendants will be kings, but Banquo isn't promised any kingdom himself\",\n",
       "  ' The generals want to hear more, but the weird sisters disappear',\n",
       "  'Soon afterwards, King Duncan names Macbeth Thane of Cawdor as a reward for his success in the recent battles',\n",
       "  ' The promotion seems to support the prophecy',\n",
       "  \" The King then proposes to make a brief visit that night to Macbeth's castle at Inverness\",\n",
       "  ' Lady Macbeth receives news from her husband about the prophecy and his new title',\n",
       "  ' She vows to help him become king by whatever means are necessary (*ominous music*)',\n",
       "  ''])"
      ]
     },
     "execution_count": 10,
     "metadata": {},
     "output_type": "execute_result"
    }
   ],
   "source": [
    "a"
   ]
  },
  {
   "cell_type": "code",
   "execution_count": 11,
   "metadata": {},
   "outputs": [],
   "source": [
    "text2= \"Macbeth returns to his castle, followed almost immediately by King Duncan. The Macbeths plot together to kill Duncan and wait until everyone is asleep. At the appointed time, Lady Macbeth gives the guards drugged wine so Macbeth can enter and kill the King. He regrets this almost immediately, but his wife reassures him. She leaves the bloody daggers by the dead king just before Macduff, a nobleman, arrives. When Macduff discovers the murder, Macbeth kills the drunken guards in a show of rage and retribution. Duncan's sons, Malcolm and Donalbain, flee, fearing for their own lives; but they are, nevertheless, blamed for the murder. \""
   ]
  },
  {
   "cell_type": "code",
   "execution_count": 12,
   "metadata": {},
   "outputs": [
    {
     "data": {
      "text/plain": [
       "\"Macbeth returns to his castle, followed almost immediately by King Duncan. The Macbeths plot together to kill Duncan and wait until everyone is asleep. At the appointed time, Lady Macbeth gives the guards drugged wine so Macbeth can enter and kill the King. He regrets this almost immediately, but his wife reassures him. She leaves the bloody daggers by the dead king just before Macduff, a nobleman, arrives. When Macduff discovers the murder, Macbeth kills the drunken guards in a show of rage and retribution. Duncan's sons, Malcolm and Donalbain, flee, fearing for their own lives; but they are, nevertheless, blamed for the murder. \""
      ]
     },
     "execution_count": 12,
     "metadata": {},
     "output_type": "execute_result"
    }
   ],
   "source": [
    "text2"
   ]
  },
  {
   "cell_type": "code",
   "execution_count": 13,
   "metadata": {},
   "outputs": [],
   "source": [
    "b=(\"doc2\", text2.split('.'))"
   ]
  },
  {
   "cell_type": "code",
   "execution_count": 15,
   "metadata": {},
   "outputs": [],
   "source": [
    "text3= \"Macbeth becomes King of Scotland but is plagued by feelings of insecurity. He remembers the prophecy that Banquo's descendants will inherit the throne and arranges for Banquo and his son Fleance to be killed. In the darkness, Banquo is murdered, but his son escapes the assassins. At his state banquet that night, Macbeth sees the ghost of Banquo and worries the courtiers with his mad response. Lady Macbeth dismisses the court and unsuccessfully tries to calm her husband. Macbeth seeks out the witches who say that he will be safe until a local wood, Birnam Wood, marches into battle against him. He also need not fear anyone born of woman (that sounds secure, no loop-holes here). They also prophesy that the Scottish succession will still come from Banquo's son. Macbeth embarks on a reign of terror, slaughtering many, including Macduff's family. Macduff had gone to seek Malcolm (one of Duncan's sons who fled) at the court of the English king. Malcolm is young and unsure of himself, but Macduff, pained with grief, persuades him to lead an army against Macbeth. \""
   ]
  },
  {
   "cell_type": "code",
   "execution_count": 16,
   "metadata": {},
   "outputs": [
    {
     "data": {
      "text/plain": [
       "\"Macbeth becomes King of Scotland but is plagued by feelings of insecurity. He remembers the prophecy that Banquo's descendants will inherit the throne and arranges for Banquo and his son Fleance to be killed. In the darkness, Banquo is murdered, but his son escapes the assassins. At his state banquet that night, Macbeth sees the ghost of Banquo and worries the courtiers with his mad response. Lady Macbeth dismisses the court and unsuccessfully tries to calm her husband. Macbeth seeks out the witches who say that he will be safe until a local wood, Birnam Wood, marches into battle against him. He also need not fear anyone born of woman (that sounds secure, no loop-holes here). They also prophesy that the Scottish succession will still come from Banquo's son. Macbeth embarks on a reign of terror, slaughtering many, including Macduff's family. Macduff had gone to seek Malcolm (one of Duncan's sons who fled) at the court of the English king. Malcolm is young and unsure of himself, but Macduff, pained with grief, persuades him to lead an army against Macbeth. \""
      ]
     },
     "execution_count": 16,
     "metadata": {},
     "output_type": "execute_result"
    }
   ],
   "source": [
    "text3"
   ]
  },
  {
   "cell_type": "code",
   "execution_count": 17,
   "metadata": {},
   "outputs": [],
   "source": [
    "c=(\"doc3\", text3.split('.'))"
   ]
  },
  {
   "cell_type": "code",
   "execution_count": 18,
   "metadata": {},
   "outputs": [],
   "source": [
    "c=(\"doc3\", text3.split('.'))"
   ]
  },
  {
   "cell_type": "code",
   "execution_count": 19,
   "metadata": {},
   "outputs": [],
   "source": [
    "text = \"On a bleak Scottish moorland, Macbeth and Banquo, two of King Duncan's generals, discover three strange women (witches). The witches prophesy that Macbeth will be promoted twice: to Thane of Cawdor (a rank of the aristocracy bestowed by grateful kings) and King of Scotland. Banquo's descendants will be kings, but Banquo isn't promised any kingdom himself. The generals want to hear more, but the weird sisters disappear.Soon afterwards, King Duncan names Macbeth Thane of Cawdor as a reward for his success in the recent battles. The promotion seems to support the prophecy. The King then proposes to make a brief visit that night to Macbeth's castle at Inverness. Lady Macbeth receives news from her husband about the prophecy and his new title. She vows to help him become king by whatever means are necessary (*ominous music*).\" \n",
    "text2= \"Macbeth returns to his castle, followed almost immediately by King Duncan. The Macbeths plot together to kill Duncan and wait until everyone is asleep. At the appointed time, Lady Macbeth gives the guards drugged wine so Macbeth can enter and kill the King. He regrets this almost immediately, but his wife reassures him. She leaves the bloody daggers by the dead king just before Macduff, a nobleman, arrives. When Macduff discovers the murder, Macbeth kills the drunken guards in a show of rage and retribution. Duncan's sons, Malcolm and Donalbain, flee, fearing for their own lives; but they are, nevertheless, blamed for the murder. \"\n",
    "text3= \"Macbeth becomes King of Scotland but is plagued by feelings of insecurity. He remembers the prophecy that Banquo's descendants will inherit the throne and arranges for Banquo and his son Fleance to be killed. In the darkness, Banquo is murdered, but his son escapes the assassins. At his state banquet that night, Macbeth sees the ghost of Banquo and worries the courtiers with his mad response. Lady Macbeth dismisses the court and unsuccessfully tries to calm her husband. Macbeth seeks out the witches who say that he will be safe until a local wood, Birnam Wood, marches into battle against him. He also need not fear anyone born of woman (that sounds secure, no loop-holes here). They also prophesy that the Scottish succession will still come from Banquo's son. Macbeth embarks on a reign of terror, slaughtering many, including Macduff's family. Macduff had gone to seek Malcolm (one of Duncan's sons who fled) at the court of the English king. Malcolm is young and unsure of himself, but Macduff, pained with grief, persuades him to lead an army against Macbeth. \"\n",
    "a=(\"doc1\",text.split('.'))\n",
    "b=(\"doc2\", text2.split('.'))\n",
    "c=(\"doc3\", text3.split('.'))"
   ]
  },
  {
   "cell_type": "code",
   "execution_count": null,
   "metadata": {},
   "outputs": [],
   "source": []
  }
 ],
 "metadata": {
  "kernelspec": {
   "display_name": "Python 3",
   "language": "python",
   "name": "python3"
  },
  "language_info": {
   "codemirror_mode": {
    "name": "ipython",
    "version": 3
   },
   "file_extension": ".py",
   "mimetype": "text/x-python",
   "name": "python",
   "nbconvert_exporter": "python",
   "pygments_lexer": "ipython3",
   "version": "3.6.5"
  }
 },
 "nbformat": 4,
 "nbformat_minor": 2
}
