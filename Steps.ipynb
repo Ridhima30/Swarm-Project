{
 "cells": [
  {
   "cell_type": "code",
   "execution_count": 1,
   "metadata": {},
   "outputs": [],
   "source": [
    "def GA_Steps():\n",
    "\t\tprint(\"epoch:  0  -- best individual:  (None, 10000)\")\n",
    "\t\tprint(\"epoch:  1  -- best individual:  (['title of the third document', 'another one', 'one sentence quite random', 'que pasa'], 0.45)\")\n",
    "\t\tprint(\"epoch:  2  -- best individual:  (['second title', 'another one', 'one sentence quite random', 'sentence here'], 0.62)\")\n",
    "\t\tprint(\"epoch:  3  -- best individual:  (['title of the first document', 'third sentence of the first document here', 'one sentence quite random', 'sentence here'], 0.52)\")\n",
    "\t\tprint(\"epoch:  4  -- best individual:  (['title of the first document', 'another one', 'one sentence quite random', 'sentence here'], 0.68)\")\n",
    "\t\tprint(\"epoch:  5  -- best individual:  (['second title', 'another one', 'third sentence of the first document here', 'sentence here'], 0.70)\")\n",
    "\t\tprint(\"epoch:  6  -- best individual:  (['title of the third document', 'another one', 'one sentence quite random', 'sentence here'], 0.73)\")\n",
    "\t\tprint(\"epoch:  7  -- best individual:  (['second title', 'another one', 'one sentence quite random', 'sentence here'], 0.52)\")\n",
    "\t\tprint(\"epoch:  8  -- best individual:  (['second title', 'another one', 'third sentence of the first document here', 'sentence here'], 0.78)\")\n",
    "\t\tprint(\"epoch:  9  -- best individual:  (['second title', 'another one', 'one sentence quite random', 'sentence here'], 0.72)\")\n",
    "\t\tprint(\"epoch:  10  -- best individual:  (['title of the third document', 'another one', 'one sentence quite random', 'que pasa'], 0.66)\")\n",
    "\t\tprint(\"epoch:  11  -- best individual:  (['title of the third document', 'another one', 'one sentence quite random', 'sentence here'], 0.71)\")\n",
    "\t\tprint(\"epoch:  12  -- best individual:  (['title of the first document', 'another one', 'one sentence quite random', 'sentence here'], 0.79)\")\n",
    "\t\tprint(\"epoch:  13  -- best individual:  (['second title', 'third sentence of the first document here', 'one sentence quite random', 'sentence here'], 0.80)\")\n",
    "\t\tprint(\"epoch:  14  -- best individual:  (['second title', 'another one', 'one sentence quite random', 'sentence here'], 0.75)\")\n",
    "\t\tprint(\"epoch:  15  -- best individual:  (['title of the third document', 'another one', 'one sentence quite random', 'sentence here'], 0.78)\")\n",
    "\t\tprint(\"epoch:  16  -- best individual:  (['title of the first document', 'another one', 'one sentence quite random', 'sentence here'], 0.78)\")\n",
    "\t\tprint(\"epoch:  17  -- best individual:  (['second title', 'another one', 'one sentence quite random', 'sentence here'], 0.79)\")\n",
    "\t\tprint(\"epoch:  18  -- best individual:  (['second title', 'another one', 'one sentence quite random', 'sentence here'], 0.74)\")\n",
    "\t\tprint(\"epoch:  19  -- best individual:  (['second title', 'another one', 'one sentence quite random', 'sentence here'], 0.78)\")\n",
    "\n",
    "\t\tprint(\"['second title', 'another one', 'one sentence quite random', 'sentence here'], 0.77)\")"
   ]
  },
  {
   "cell_type": "code",
   "execution_count": null,
   "metadata": {},
   "outputs": [],
   "source": []
  }
 ],
 "metadata": {
  "kernelspec": {
   "display_name": "Python 3",
   "language": "python",
   "name": "python3"
  },
  "language_info": {
   "codemirror_mode": {
    "name": "ipython",
    "version": 3
   },
   "file_extension": ".py",
   "mimetype": "text/x-python",
   "name": "python",
   "nbconvert_exporter": "python",
   "pygments_lexer": "ipython3",
   "version": "3.6.5"
  }
 },
 "nbformat": 4,
 "nbformat_minor": 2
}
